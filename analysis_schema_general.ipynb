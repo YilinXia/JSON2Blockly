{
 "cells": [
  {
   "cell_type": "markdown",
   "metadata": {},
   "source": [
    "### Package Import"
   ]
  },
  {
   "cell_type": "markdown",
   "metadata": {},
   "source": [
    "package info\n",
    "* Pydot 1.4.1 \n",
    "* Pandas 0.25.0\n",
    "* Networkx 1.9\n",
    "* matplotlib 2.2.3\n",
    "* nxpd 0.2.0"
   ]
  },
  {
   "cell_type": "code",
   "execution_count": 1,
   "metadata": {
    "hide_input": false
   },
   "outputs": [],
   "source": [
    "import json\n",
    "import copy\n",
    "from IPython.display import Image\n",
    "\n",
    "import pydot\n",
    "import pandas as pd\n",
    "import networkx as nx\n",
    "from nxpd import draw, nxpdParams\n",
    "from matplotlib import pyplot as plt\n",
    "\n",
    "# if you encountered the error \"graphviz's executables not found\" please use \"brew install graphviz\""
   ]
  },
  {
   "cell_type": "markdown",
   "metadata": {
    "hide_input": false
   },
   "source": [
    "### Function Definition"
   ]
  },
  {
   "cell_type": "code",
   "execution_count": 2,
   "metadata": {
    "hide_input": false
   },
   "outputs": [],
   "source": [
    "# turn all the values into str\n",
    "def value_to_str(dict_name):\n",
    "    for k, v in dict_name.items():\n",
    "        if type(v) == type({}):\n",
    "            value_to_str(v)\n",
    "        else:\n",
    "            dict_name[k] = str(v)\n",
    "\n",
    "\n",
    "def assign_id(js_dict):\n",
    "    value_to_str(js_dict)  # change all values to str\n",
    "    new_js_dict = {}\n",
    "    new_js_dict[\n",
    "        \"Start\"] = js_dict  # create a new root to ensure the graph looks nice\n",
    "    num = 0\n",
    "    add_num(new_js_dict)  # add num tag\n",
    "    return (new_js_dict)\n",
    "\n",
    "\n",
    "def add_num(\n",
    "        dict_name):  # add number to each k or v which will be treated as id\n",
    "    global num\n",
    "    for k in list(dict_name.keys()):\n",
    "        v = dict_name[k]\n",
    "        dict_name[k + \"__\" + str(num)] = dict_name.pop(k)\n",
    "        if type(v) == type({}):\n",
    "            num = num + 1\n",
    "            add_num(v)\n",
    "        else:\n",
    "            dict_name[k + \"__\" + str(num)] = str(v) + \"__\" + str(num + 1)\n",
    "            num = num + 2\n",
    "\n",
    "\n",
    "def edge_eda(dict_name, tag_num=0):  # all edge data \"A--B\"\n",
    "    global edge_lst\n",
    "    for k, v in dict_name.items():\n",
    "\n",
    "        sta_id = k.split(\"__\")[1]\n",
    "        sta_lab = k.split(\"__\")[0]\n",
    "\n",
    "        if type(v) == type({}):\n",
    "            for key in list(v.keys()):\n",
    "                end_id = key.split(\"__\")[1]\n",
    "                end_lab = key.split(\"__\")[0]\n",
    "\n",
    "                edge_lst.append([sta_id, sta_lab, end_id, end_lab])\n",
    "            edge_eda(v)\n",
    "        else:\n",
    "            end_id = v.split(\"__\")[1]\n",
    "            end_lab = v.split(\"__\")[0]\n",
    "            edge_lst.append([sta_id, sta_lab, end_id, end_lab])\n",
    "    return (pd.DataFrame(edge_lst))\n",
    "\n",
    "\n",
    "def id_label(new_js_dict):  # create dict for easy search id<-->label\n",
    "    global edge_lst\n",
    "    edge_lst = []\n",
    "    tag_num = 0\n",
    "    edge_ = edge_eda(new_js_dict)\n",
    "\n",
    "    id_label_dict = {}\n",
    "    edge_dict = {}\n",
    "    for row in range(len(edge_)):\n",
    "        id_label_dict[edge_.iloc[row, 0]] = edge_.iloc[row, 1]\n",
    "        id_label_dict[edge_.iloc[row, 2]] = edge_.iloc[row, 3]\n",
    "        edge_dict[row] = [edge_.iloc[row, 0], edge_.iloc[row, 2]]\n",
    "    return (id_label_dict, edge_dict)\n",
    "\n",
    "\n",
    "def attr_lst(G, id_label_dict,\n",
    "             attr_set):  #based on the definition, find out all attributes\n",
    "    attr_ = []\n",
    "    for node_id in list(id_label_dict.keys()):\n",
    "        par_set = set(\n",
    "            [id_label_dict[suc_id] for suc_id in G.successors(node_id)])\n",
    "        if set(attr_set).issubset(par_set):\n",
    "            attr_.append(node_id)\n",
    "            pre_id = G.predecessors(node_id)\n",
    "            if len(pre_id) == 1 and pre_id[0] not in attr_:\n",
    "                attr_.append(pre_id[0])\n",
    "    return (attr_)\n",
    "\n",
    "\n",
    "nxpdParams['show'] = 'ipynb'\n",
    "\n",
    "\n",
    "def draw_graph(id_label_dict, edge_dict, attr_set, sub_attr_set,\n",
    "               const_attr_set):\n",
    "    G = nx.DiGraph()\n",
    "    for k, v in id_label_dict.items():\n",
    "        G.add_node(k, {'label': v})\n",
    "    for k, v in edge_dict.items():\n",
    "        G.add_edge(v[0], v[1])\n",
    "    draw(G)\n",
    "    attr_lst_r = attr_lst(\n",
    "        G, id_label_dict,\n",
    "        attr_set)  # store nodes with certain structure (title, type)\n",
    "\n",
    "    attr_succ_id = []\n",
    "    for attr_id in attr_lst_r:\n",
    "        for attr_suc_id in G.successors(attr_id):\n",
    "            if id_label_dict[attr_suc_id] in sub_attr_set:\n",
    "                attr_succ_id.append(attr_suc_id)\n",
    "\n",
    "    attr_cons_id = []\n",
    "    for attr_id in attr_lst_r:\n",
    "        for attr_suc_id in G.successors(attr_id):\n",
    "            if id_label_dict[attr_suc_id] in const_attr_set:\n",
    "                attr_cons_id.append(attr_suc_id)\n",
    "\n",
    "    G1 = nx.DiGraph()\n",
    "    for k, v in id_label_dict.items():\n",
    "        if k in attr_lst_r:\n",
    "            G1.add_node(k, {'label': v}, style=\"filled\",\n",
    "                        fillcolor='#FF8080')  #attribute --> read\n",
    "        elif k in attr_succ_id:\n",
    "            G1.add_node(k, {'label': v}, style=\"filled\",\n",
    "                        fillcolor='#80FF80')  # sub-features --> green\n",
    "        elif k in attr_cons_id:\n",
    "            G1.add_node(k, {'label': v}, style=\"filled\",\n",
    "                        fillcolor='#efa8e4')  # sub-features --> green\n",
    "        else:\n",
    "            G1.add_node(k, {'label': v}, style=\"filled\", fillcolor=\"white\")\n",
    "    for k, v in edge_dict.items():\n",
    "        G1.add_edge(v[0], v[1])\n",
    "    return (G1)"
   ]
  },
  {
   "cell_type": "markdown",
   "metadata": {},
   "source": [
    "### Raw JSON to Dict"
   ]
  },
  {
   "cell_type": "code",
   "execution_count": 3,
   "metadata": {
    "hide_input": false
   },
   "outputs": [],
   "source": [
    "# ! git clone https://github.com/data-exp-lab/analysis_schema.git"
   ]
  },
  {
   "cell_type": "markdown",
   "metadata": {
    "hide_input": true
   },
   "source": [
    "#### from existed json file"
   ]
  },
  {
   "cell_type": "code",
   "execution_count": 4,
   "metadata": {
    "hide_input": false
   },
   "outputs": [],
   "source": [
    "v='UnitfulCoordinate'\n",
    "# v='UnitfulArray'\n",
    "# v='UnitfulValue'\n",
    "# v='Sphere'\n",
    "# v='image_gallery'\n",
    "with open(\"js_file/\" + v + \".json\") as f:\n",
    "    js_dict = json.load(f)"
   ]
  },
  {
   "cell_type": "code",
   "execution_count": 5,
   "metadata": {},
   "outputs": [
    {
     "data": {
      "text/plain": [
       "{'title': 'UnitfulCoordinate',\n",
       " 'type': 'object',\n",
       " 'properties': {'values': {'title': 'Values',\n",
       "   'default': [0.5, 0.5, 0.5],\n",
       "   'minItems': 3,\n",
       "   'maxItems': 3,\n",
       "   'type': 'array',\n",
       "   'items': {'type': 'number'}},\n",
       "  'unit': {'title': 'Unit', 'default': 'unitary', 'type': 'string'}}}"
      ]
     },
     "execution_count": 5,
     "metadata": {},
     "output_type": "execute_result"
    }
   ],
   "source": [
    "js_dict"
   ]
  },
  {
   "cell_type": "code",
   "execution_count": 6,
   "metadata": {},
   "outputs": [],
   "source": [
    "js_dict_sta = {}\n",
    "js_dict_sta[\"Start\"] = copy.deepcopy(js_dict)"
   ]
  },
  {
   "cell_type": "markdown",
   "metadata": {},
   "source": [
    "#### assign id to every artifact"
   ]
  },
  {
   "cell_type": "code",
   "execution_count": 7,
   "metadata": {},
   "outputs": [],
   "source": [
    "num = 0\n",
    "new_js_dict = assign_id(js_dict)"
   ]
  },
  {
   "cell_type": "code",
   "execution_count": 8,
   "metadata": {},
   "outputs": [
    {
     "data": {
      "text/plain": [
       "{'Start__0': {'title__1': 'UnitfulCoordinate__2',\n",
       "  'type__3': 'object__4',\n",
       "  'properties__5': {'values__6': {'title__7': 'Values__8',\n",
       "    'default__9': '[0.5, 0.5, 0.5]__10',\n",
       "    'minItems__11': '3__12',\n",
       "    'maxItems__13': '3__14',\n",
       "    'type__15': 'array__16',\n",
       "    'items__17': {'type__18': 'number__19'}},\n",
       "   'unit__20': {'title__21': 'Unit__22',\n",
       "    'default__23': 'unitary__24',\n",
       "    'type__25': 'string__26'}}}}"
      ]
     },
     "execution_count": 8,
     "metadata": {},
     "output_type": "execute_result"
    }
   ],
   "source": [
    "new_js_dict"
   ]
  },
  {
   "cell_type": "markdown",
   "metadata": {},
   "source": [
    "### Draw Graph"
   ]
  },
  {
   "cell_type": "markdown",
   "metadata": {},
   "source": [
    "definition of nodes and sub-nodes"
   ]
  },
  {
   "cell_type": "code",
   "execution_count": 9,
   "metadata": {},
   "outputs": [],
   "source": [
    "attr_set = set(\n",
    "    [\"title\"]\n",
    ")  #definition of attributes (e.g. here means the node must contain title and type)\n",
    "sub_attr_set = [\"title\", \"items\",\n",
    "                \"default\"]  # descendants which can be transformed into blocks\n",
    "const_attr_set = [\"type\"]  #"
   ]
  },
  {
   "cell_type": "code",
   "execution_count": 10,
   "metadata": {},
   "outputs": [],
   "source": [
    "id_label_dict, edge_dict = id_label(new_js_dict)"
   ]
  },
  {
   "cell_type": "code",
   "execution_count": 11,
   "metadata": {},
   "outputs": [],
   "source": [
    "#id_label_dict"
   ]
  },
  {
   "cell_type": "code",
   "execution_count": 12,
   "metadata": {},
   "outputs": [],
   "source": [
    "#edge_dict"
   ]
  },
  {
   "cell_type": "code",
   "execution_count": 13,
   "metadata": {
    "hide_input": false
   },
   "outputs": [
    {
     "data": {
      "image/png": "[encoded data removed]",
      "text/plain": [
       "<IPython.core.display.Image object>"
      ]
     },
     "execution_count": 13,
     "metadata": {},
     "output_type": "execute_result"
    }
   ],
   "source": [
    "G = draw_graph(id_label_dict, edge_dict, attr_set, sub_attr_set,\n",
    "               const_attr_set)\n",
    "draw(G)"
   ]
  },
  {
   "cell_type": "code",
   "execution_count": 14,
   "metadata": {
    "hide_input": true
   },
   "outputs": [],
   "source": [
    "# nxpdParams['show'] = 'ipynb'\n",
    "# G_rl = nx.DiGraph()\n",
    "# G_rl.add_node(0, {'label' : \"object\"},style=\"filled\", fillcolor='#FF8080')\n",
    "# G_rl.add_node(1, {'label' : \"attribute1\"},style=\"filled\", fillcolor='#80FF80') \n",
    "# G_rl.add_node(2, {'label' : \"attribute2\"},style=\"filled\", fillcolor='#80FF80') \n",
    "# G_rl.add_node(3, {'label' : \"...\"},style=\"filled\", fillcolor='white')\n",
    "# G_rl.add_edge(0,1)\n",
    "# G_rl.add_edge(0,2)\n",
    "# G_rl.add_edge(0,3)\n",
    "# draw(G_rl)"
   ]
  },
  {
   "cell_type": "code",
   "execution_count": 15,
   "metadata": {
    "hide_input": true
   },
   "outputs": [],
   "source": [
    "# nxpdParams['show'] = 'ipynb'\n",
    "# G_rl = nx.DiGraph()\n",
    "# G_rl.add_node(0, {'label' : \"properties\"},style=\"filled\", fillcolor='#FF8080') \n",
    "# G_rl.add_node(1, {'label' : \"values\"},style=\"filled\", fillcolor='#FF8080') \n",
    "# G_rl.add_node(2, {'label' : \"unit\"},style=\"filled\", fillcolor='#FF8080') \n",
    "\n",
    "# # G_rl.add_node(4, {'label' : \"feature1\"},style=\"filled\", fillcolor='#80FF80') \n",
    "# # G_rl.add_node(5, {'label' : \"feature2\"},style=\"filled\", fillcolor='#80FF80') \n",
    "# # G_rl.add_node(6, {'label' : \"...\"},style=\"filled\", fillcolor='white')\n",
    "\n",
    "# # G_rl.add_node(7, {'label' : \"feature1\"},style=\"filled\", fillcolor='#80FF80') \n",
    "# # G_rl.add_node(8, {'label' : \"feature2\"},style=\"filled\", fillcolor='#80FF80')\n",
    "# # G_rl.add_node(9, {'label' : \"...\"},style=\"filled\", fillcolor='white')\n",
    "\n",
    "# G_rl.add_edge(0,1)\n",
    "# # G_rl.add_edge(1,4)\n",
    "# # G_rl.add_edge(1,5)\n",
    "# # G_rl.add_edge(1,6)\n",
    "# G_rl.add_edge(0,2)\n",
    "# # G_rl.add_edge(2,7)\n",
    "# # G_rl.add_edge(2,8)\n",
    "# # G_rl.add_edge(2,9)\n",
    "# draw(G_rl)"
   ]
  },
  {
   "cell_type": "code",
   "execution_count": 16,
   "metadata": {
    "hide_input": true
   },
   "outputs": [],
   "source": [
    "# nxpdParams['show'] = 'ipynb'\n",
    "# G_rl = nx.DiGraph()\n",
    "# G_rl.add_node(0, {'label' : \"object\"},style=\"filled\", fillcolor='#FF8080')\n",
    "# G_rl.add_node(1, {'label' : \"attribute1\"},style=\"filled\", fillcolor='#80FF80') \n",
    "# G_rl.add_node(2, {'label' : \"attribute2\"},style=\"filled\", fillcolor='#80FF80') \n",
    "# G_rl.add_node(3, {'label' : \"...\"},style=\"filled\", fillcolor='white')\n",
    "\n",
    "# G_rl.add_node(4, {'label' : \"object\"},style=\"filled\", fillcolor='#FF8080')\n",
    "# G_rl.add_node(5, {'label' : \"...\"},style=\"filled\", fillcolor='#FF8080')\n",
    "\n",
    "# G_rl.add_edge(0,1)\n",
    "# G_rl.add_edge(0,2)\n",
    "# G_rl.add_edge(0,3)\n",
    "# G_rl.add_edge(0,4)\n",
    "# G_rl.add_edge(0,5)\n",
    "# draw(G_rl)"
   ]
  },
  {
   "cell_type": "code",
   "execution_count": 17,
   "metadata": {
    "hide_input": true
   },
   "outputs": [],
   "source": [
    "# nxpdParams['show'] = 'ipynb'\n",
    "# G_rl = nx.DiGraph()\n",
    "# G_rl.add_node(0, {'label' : \"start\"},style=\"filled\", fillcolor='#FF8080')\n",
    "# G_rl.add_node(1, {'label' : \"title\"},style=\"filled\", fillcolor='#80FF80') \n",
    "# G_rl.add_node(2, {'label' : \"type\"},style=\"filled\", fillcolor='#80FF80') \n",
    "# G_rl.add_node(3, {'label' : \"UnitfulCoordinate\"},style=\"filled\", fillcolor='white')\n",
    "# G_rl.add_node(4, {'label' : \"Object\"},style=\"filled\", fillcolor='white')\n",
    "# G_rl.add_node(5, {'label' : \"properties\"},style=\"filled\", fillcolor='#FF8080')\n",
    "\n",
    "# G_rl.add_edge(0,1)\n",
    "# G_rl.add_edge(0,2)\n",
    "# G_rl.add_edge(1,3)\n",
    "# G_rl.add_edge(2,4)\n",
    "# G_rl.add_edge(0,5)\n",
    "# draw(G_rl)"
   ]
  },
  {
   "cell_type": "markdown",
   "metadata": {},
   "source": [
    "### Generate block Define JSON"
   ]
  },
  {
   "cell_type": "code",
   "execution_count": 18,
   "metadata": {},
   "outputs": [
    {
     "data": {
      "text/plain": [
       "{'Start': {'title': 'UnitfulCoordinate',\n",
       "  'type': 'object',\n",
       "  'properties': {'values': {'title': 'Values',\n",
       "    'default': [0.5, 0.5, 0.5],\n",
       "    'minItems': 3,\n",
       "    'maxItems': 3,\n",
       "    'type': 'array',\n",
       "    'items': {'type': 'number'}},\n",
       "   'unit': {'title': 'Unit', 'default': 'unitary', 'type': 'string'}}}}"
      ]
     },
     "execution_count": 18,
     "metadata": {},
     "output_type": "execute_result"
    }
   ],
   "source": [
    "js_dict_sta  # current dict"
   ]
  },
  {
   "cell_type": "code",
   "execution_count": 19,
   "metadata": {},
   "outputs": [],
   "source": [
    "def gen_node_dict(G, node_id, id_label_dict, attr_node_ids):\n",
    "    node_dict = {}\n",
    "    input_val_list = []\n",
    "    for id_ in G.successors(node_id):\n",
    "        if G.node[id_][\"label\"] == \"title\":\n",
    "            node_dict[\"title\"] = id_label_dict[G.successors(id_)[0]]\n",
    "        if G.node[id_][\"label\"] == \"type\":\n",
    "            node_dict[\"type\"] = id_label_dict[G.successors(id_)[0]]\n",
    "        if G.node[id_][\"label\"] == \"items\":\n",
    "            node_dict[\"items_type\"] = id_label_dict[G.successors(\n",
    "                G.successors(id_)[0])[0]]\n",
    "        if G.node[id_][\"label\"] == \"default\":\n",
    "            node_dict[\"default\"] = id_label_dict[G.successors(id_)[0]]\n",
    "        if id_ in attr_node_ids:\n",
    "            input_val_list.append(id_)\n",
    "    if \"title\" not in node_dict.keys():\n",
    "        node_dict[\"title\"] = G.node[node_id][\"label\"]\n",
    "    if \"type\" not in node_dict.keys():\n",
    "        node_dict[\"type\"] = G.node[node_id][\"label\"]\n",
    "\n",
    "    input_val_dict = {}\n",
    "    for input_val_id in input_val_list:\n",
    "        sub_node = {}\n",
    "        sub_node_label = G.node[input_val_id][\"label\"]\n",
    "        for id_ in G.successors(input_val_id):\n",
    "            if G.node[id_][\"label\"] == \"title\":\n",
    "                sub_node[\"name\"] = id_label_dict[G.successors(id_)[0]]\n",
    "            if G.node[id_][\"label\"] == \"type\":\n",
    "                sub_node[\"type\"] = id_label_dict[G.successors(id_)[0]]\n",
    "\n",
    "        if \"name\" not in sub_node.keys():\n",
    "            sub_node[\"name\"] = G.node[input_val_id][\"label\"]\n",
    "        if \"type\" not in sub_node.keys():\n",
    "            sub_node[\"type\"] = G.node[input_val_id][\"label\"]\n",
    "\n",
    "        input_val_dict[sub_node_label] = sub_node\n",
    "\n",
    "    if len(input_val_list) > 0:\n",
    "        node_dict[\"sub_node\"] = input_val_dict\n",
    "\n",
    "    return (node_dict)"
   ]
  },
  {
   "cell_type": "code",
   "execution_count": 20,
   "metadata": {},
   "outputs": [
    {
     "data": {
      "text/plain": [
       "['0', '6', '5', '20']"
      ]
     },
     "execution_count": 20,
     "metadata": {},
     "output_type": "execute_result"
    }
   ],
   "source": [
    "attr_node_ids = attr_lst(G, id_label_dict, attr_set)\n",
    "attr_node_ids  # get the red_node in order to generate corresponded blocks"
   ]
  },
  {
   "cell_type": "code",
   "execution_count": 21,
   "metadata": {},
   "outputs": [
    {
     "data": {
      "text/plain": [
       "{'title': 'Values',\n",
       " 'default': '[0.5, 0.5, 0.5]',\n",
       " 'type': 'array',\n",
       " 'items_type': 'number'}"
      ]
     },
     "execution_count": 21,
     "metadata": {},
     "output_type": "execute_result"
    }
   ],
   "source": [
    "gen_node_dict(G, \"6\", id_label_dict,\n",
    "               attr_node_ids)"
   ]
  },
  {
   "cell_type": "markdown",
   "metadata": {},
   "source": [
    "**update field_variable / input_value / field_input / field_num**"
   ]
  },
  {
   "cell_type": "code",
   "execution_count": 22,
   "metadata": {},
   "outputs": [],
   "source": [
    "def bl_js_ge(G, attr_id, id_label_dict, attr_node_ids):\n",
    "\n",
    "    node_own_dict = gen_node_dict(G, attr_id, id_label_dict, attr_node_ids)\n",
    "\n",
    "    field_var = {\n",
    "        \"type\": \"field_variable\",\n",
    "        \"name\": \"default\",\n",
    "        \"variable\": \"default\"\n",
    "    }\n",
    "    input_val = {\"type\": \"input_value\", \"name\": \"default\", \"check\": \"default\"}\n",
    "    field_input = {\"type\": \"field_input\", \"name\": \"default\", \"text\": \"default\"}\n",
    "    field_num = {\"type\": \"field_number\", \"name\": \"default\", \"value\": 0}\n",
    "\n",
    "    block_args = []\n",
    "\n",
    "    #update field variable\n",
    "    attr_title = node_own_dict[\"title\"]\n",
    "    field_var[\"name\"] = attr_title\n",
    "    field_var[\"variable\"] = attr_title\n",
    "    block_args.append(field_var)\n",
    "\n",
    "    #update input_value\n",
    "    if \"sub_node\" in node_own_dict.keys():\n",
    "        for attr_op_item in node_own_dict[\"sub_node\"].keys():\n",
    "            input_val[\"name\"] = node_own_dict[\"sub_node\"][attr_op_item][\"name\"]\n",
    "            input_val[\"check\"] = node_own_dict[\"sub_node\"][attr_op_item][\n",
    "                \"type\"]\n",
    "            block_args.append(input_val)\n",
    "\n",
    "    #update field_input\n",
    "    \n",
    "    \n",
    "    \n",
    "    \n",
    "\n",
    "    # update block type\n",
    "    block_type = node_own_dict[\"type\"]\n",
    "\n",
    "    #update block format\n",
    "    block_format = 'set %1 to'\n",
    "    if len(block_args) > 0:\n",
    "        for num in range(1, len(block_args)):\n",
    "            block_format = block_format + \" %\" + str(num + 1)\n",
    "\n",
    "    block_dict = {\n",
    "        \"message0\": block_format,\n",
    "        \"args0\": block_args,\n",
    "        \"inputsInline\": \"true\",\n",
    "        \"output\": block_type,\n",
    "        \"colour\": 230,\n",
    "    }\n",
    "\n",
    "    block_def = \"var \" + attr_title + \"=\" + str(block_dict) + \";\"\n",
    "    block_fun = '''Blockly.Blocks['%s'] = {init: function() {this.jsonInit(%s);}};''' % (\n",
    "        attr_title, attr_title)\n",
    "    block_js = block_def + block_fun\n",
    "\n",
    "    xml_js = '''<block type=\"%s\"></block>''' % (attr_title)\n",
    "\n",
    "    return (xml_js, block_js)"
   ]
  },
  {
   "cell_type": "markdown",
   "metadata": {},
   "source": [
    "### Generate block define JSON"
   ]
  },
  {
   "cell_type": "code",
   "execution_count": 23,
   "metadata": {},
   "outputs": [],
   "source": [
    "# attr_node_ids"
   ]
  },
  {
   "cell_type": "code",
   "execution_count": 24,
   "metadata": {},
   "outputs": [],
   "source": [
    "xml_js = ''\n",
    "block_js = ''\n",
    "for id_ in attr_node_ids:\n",
    "    xml_, block_ = bl_js_ge(G, id_, id_label_dict, attr_node_ids)\n",
    "    xml_js = xml_js + xml_\n",
    "    block_js = block_js + block_"
   ]
  },
  {
   "cell_type": "code",
   "execution_count": 25,
   "metadata": {},
   "outputs": [],
   "source": [
    "#xml_js"
   ]
  },
  {
   "cell_type": "code",
   "execution_count": 26,
   "metadata": {},
   "outputs": [],
   "source": [
    "#block_js"
   ]
  },
  {
   "cell_type": "markdown",
   "metadata": {},
   "source": [
    "### Show blocks"
   ]
  },
  {
   "cell_type": "markdown",
   "metadata": {},
   "source": [
    "Please put blockly_compressed.js, blocks_compressed.js, en.js under the same directory"
   ]
  },
  {
   "cell_type": "code",
   "execution_count": 27,
   "metadata": {},
   "outputs": [],
   "source": [
    "wrapper = '''\n",
    "<head>\n",
    "<meta charset=\"utf-8\">\n",
    "<script src=\"./blockly_compressed.js\"></script>\n",
    "<script src=\"./blocks_compressed.js\"></script>\n",
    "<script src=\"./en.js\"></script>\n",
    "</head>\n",
    "\n",
    "<body>\n",
    "<div id=\"blocklyDiv\" style=\"height: 480px; width: 800px;\"></div>\n",
    "\n",
    "<xml id=\"toolbox\" style=\"display: none\">\n",
    "%s\n",
    "</xml>\n",
    "\n",
    "<script>   \n",
    "%s\n",
    "\n",
    "var workspace = Blockly.inject('blocklyDiv',\n",
    "{toolbox: document.getElementById('toolbox')});\n",
    "</script>\n",
    "\n",
    "</body>\n",
    "'''\n",
    "wrapper = wrapper % (xml_js, block_js)"
   ]
  },
  {
   "cell_type": "code",
   "execution_count": 28,
   "metadata": {},
   "outputs": [
    {
     "data": {
      "text/html": [
       "\n",
       "<head>\n",
       "<meta charset=\"utf-8\">\n",
       "<script src=\"./blockly_compressed.js\"></script>\n",
       "<script src=\"./blocks_compressed.js\"></script>\n",
       "<script src=\"./en.js\"></script>\n",
       "</head>\n",
       "\n",
       "<body>\n",
       "<div id=\"blocklyDiv\" style=\"height: 480px; width: 800px;\"></div>\n",
       "\n",
       "<xml id=\"toolbox\" style=\"display: none\">\n",
       "<block type=\"UnitfulCoordinate\"></block><block type=\"Values\"></block><block type=\"properties\"></block><block type=\"Unit\"></block>\n",
       "</xml>\n",
       "\n",
       "<script>   \n",
       "var UnitfulCoordinate={'message0': 'set %1 to %2', 'args0': [{'type': 'field_variable', 'name': 'UnitfulCoordinate', 'variable': 'UnitfulCoordinate'}, {'type': 'input_value', 'name': 'properties', 'check': 'properties'}], 'inputsInline': 'true', 'output': 'object', 'colour': 230};Blockly.Blocks['UnitfulCoordinate'] = {init: function() {this.jsonInit(UnitfulCoordinate);}};var Values={'message0': 'set %1 to', 'args0': [{'type': 'field_variable', 'name': 'Values', 'variable': 'Values'}], 'inputsInline': 'true', 'output': 'array', 'colour': 230};Blockly.Blocks['Values'] = {init: function() {this.jsonInit(Values);}};var properties={'message0': 'set %1 to %2 %3', 'args0': [{'type': 'field_variable', 'name': 'properties', 'variable': 'properties'}, {'type': 'input_value', 'name': 'Unit', 'check': 'string'}, {'type': 'input_value', 'name': 'Unit', 'check': 'string'}], 'inputsInline': 'true', 'output': 'properties', 'colour': 230};Blockly.Blocks['properties'] = {init: function() {this.jsonInit(properties);}};var Unit={'message0': 'set %1 to', 'args0': [{'type': 'field_variable', 'name': 'Unit', 'variable': 'Unit'}], 'inputsInline': 'true', 'output': 'string', 'colour': 230};Blockly.Blocks['Unit'] = {init: function() {this.jsonInit(Unit);}};\n",
       "\n",
       "var workspace = Blockly.inject('blocklyDiv',\n",
       "{toolbox: document.getElementById('toolbox')});\n",
       "</script>\n",
       "\n",
       "</body>\n"
      ],
      "text/plain": [
       "<IPython.core.display.HTML object>"
      ]
     },
     "execution_count": 28,
     "metadata": {},
     "output_type": "execute_result"
    }
   ],
   "source": [
    "from IPython.display import HTML\n",
    "HTML(wrapper)"
   ]
  },
  {
   "cell_type": "code",
   "execution_count": 29,
   "metadata": {},
   "outputs": [],
   "source": [
    "# #button import\n",
    "# def import_json():\n",
    "#     file_path = filedialog.askopenfilename()\n",
    "#     with open(file_path) as f:\n",
    "#         js_dict = json.load(f)"
   ]
  },
  {
   "cell_type": "code",
   "execution_count": 30,
   "metadata": {},
   "outputs": [],
   "source": [
    "# import tkinter as tk\n",
    "# from tkinter import filedialog\n",
    "\n",
    "# window = tk.Tk()\n",
    "# window.title('JSON2Blockly')\n",
    "# window.geometry('1200x800')\n",
    "# b = tk.Button(window, text='import JSON file', font=('Arial', 12), width=50, height=1, command=import_json)\n",
    "# b.pack()\n",
    "# window.mainloop()"
   ]
  }
 ],
 "metadata": {
  "kernelspec": {
   "display_name": "Python 3",
   "language": "python",
   "name": "python3"
  },
  "language_info": {
   "codemirror_mode": {
    "name": "ipython",
    "version": 3
   },
   "file_extension": ".py",
   "mimetype": "text/x-python",
   "name": "python",
   "nbconvert_exporter": "python",
   "pygments_lexer": "ipython3",
   "version": "3.7.4"
  },
  "toc": {
   "base_numbering": 1,
   "nav_menu": {},
   "number_sections": true,
   "sideBar": true,
   "skip_h1_title": false,
   "title_cell": "Table of Contents",
   "title_sidebar": "Contents",
   "toc_cell": false,
   "toc_position": {
    "height": "calc(100% - 180px)",
    "left": "10px",
    "top": "150px",
    "width": "229.475px"
   },
   "toc_section_display": true,
   "toc_window_display": true
  },
  "widgets": {
   "application/vnd.jupyter.widget-state+json": {
    "state": {},
    "version_major": 2,
    "version_minor": 0
   }
  }
 },
 "nbformat": 4,
 "nbformat_minor": 4
}
